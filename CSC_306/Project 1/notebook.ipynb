{
 "cells": [
  {
   "cell_type": "markdown",
   "source": "# Project 1 template\n\nSthen, Abhi",
   "metadata": {
    "tags": [],
    "cell_id": "00000-c5c91c0d-4bec-45fa-b2a3-da0099b8b51d",
    "deepnote_cell_type": "markdown"
   }
  },
  {
   "cell_type": "markdown",
   "source": "### Screenshot of assignment document:",
   "metadata": {
    "tags": [],
    "is_collapsed": false,
    "cell_id": "00001-1c1318e2-f0d9-41dd-bc0c-d60032c3f90a",
    "deepnote_cell_type": "text-cell-h3"
   }
  },
  {
   "cell_type": "markdown",
   "source": "![Picture title](image-20210908-200428.png)",
   "metadata": {
    "tags": [],
    "cell_id": "00002-779807fe-5f19-4bda-a676-65bb68790cde",
    "deepnote_cell_type": "markdown"
   }
  },
  {
   "cell_type": "code",
   "metadata": {
    "tags": [],
    "cell_id": "00000-3011bf9b-3603-4625-9062-fa6e9e393264",
    "deepnote_to_be_reexecuted": false,
    "source_hash": "4bb8b7b2",
    "execution_start": 1632728490397,
    "execution_millis": 151,
    "output_cleared": true,
    "deepnote_cell_type": "code"
   },
   "source": "from easydraw import *",
   "execution_count": null,
   "outputs": []
  },
  {
   "cell_type": "markdown",
   "source": "### Here are some of the drawing functions you will want to use:\n\nText(text, font size, x position, y position)\n\nRectangle(x position, y position, width, height)",
   "metadata": {
    "tags": [],
    "cell_id": "00001-034ae17c-5c2f-4a59-8d04-d9b8183a7689",
    "deepnote_cell_type": "markdown"
   }
  },
  {
   "cell_type": "code",
   "metadata": {
    "tags": [],
    "cell_id": "00001-01a66fe5-b412-4583-9dac-551cb93138cb",
    "deepnote_to_be_reexecuted": false,
    "source_hash": "d4ee4196",
    "execution_start": 1632728894385,
    "execution_millis": 16,
    "output_cleared": false,
    "deepnote_cell_type": "code"
   },
   "source": "# DNA string - 30 bases long\n# your code only has to work for a length 30 string\n# BUT if you want a challenge, try to make it work for\n# a variety of lengths (maybe 5-50)\ndna = 'ATCACGACGTGACGGATCGAGCAGTACG'\n# setting up the drawing canvas\neasydraw(700, 300)\n\n# for loop to iterate through dna string and print out correct boxes for each base\n# This was printed out first so text would be overlayed on top of the boxes\nfor i in range(len(dna)):\n    if dna[i] == 'A':\n        Rectangle((i+1)*12,55, 9, 12, fill = 'goldenrod')\n        Rectangle((i+1) * 12, 43, 9, 12, fill = \"lightcoral\")\n    elif dna[i] == 'T':\n         Rectangle((i+1)*12,55, 9, 12, fill = \"lightcoral\")\n         Rectangle((i+1) * 12, 43, 9, 12, fill = 'goldenrod')\n    elif dna[i] == 'C':\n        Rectangle((i+1)*12,55, 9, 12, fill =\"mediumaquamarine\")\n        Rectangle((i+1) * 12, 43, 9, 12, fill =\"lightskyblue\")\n    elif dna[i] == 'G':\n        Rectangle((i+1)*12, 55, 9, 12, fill = \"lightskyblue\")\n        Rectangle((i+1) * 12, 43, 9, 12, fill = \"mediumaquamarine\")\n\n#separate for loop to iterate through dna string and print correct bases (text) in the correct order as in string\n#separate for loop for rectangles around base text and base text itself, because combining them would be too complicated\n#separate for loop for rectangles around base, because colors are consistent for each type of base regardless of base position in top/or bottom strand\n#base position is important to base pairing in top and bottom strand though, so separate for loop below for that\n\nfor i in range(len(dna)):\n    Text(dna[i], 15, (i + 1) * 12, 55)\n    if dna[i] == \"A\":\n        Text(\"T\", 15, (i + 1) * 12, 43)\n    \n    elif dna[i] == \"T\":\n        Text(\"A\", 15, (i + 1) * 12, 43)\n\n    elif dna[i] == \"C\":\n        Text(\"G\", 15, (i + 1) * 12, 43)\n\n    elif dna[i] == \"G\":\n        Text(\"C\", 15, (i + 1) * 12, 43)\n\n# Gives the black bars flexibility        \nRectangle(0,67,(12 * len(dna)),10)\nRectangle((12 * len(dna)), 67, 23, 10)\nRectangle(0,33,(12 * len(dna)),10) \nRectangle((12 * len(dna)), 33, 23, 10)\n\nshow_me_my_drawing()",
   "outputs": [
    {
     "output_type": "execute_result",
     "execution_count": 14,
     "data": {
      "text/plain": "<drawSvg.drawing.Drawing at 0x7fb30188aa10>",
      "image/svg+xml": "<?xml version=\"1.0\" encoding=\"UTF-8\"?>\n<svg xmlns=\"http://www.w3.org/2000/svg\" xmlns:xlink=\"http://www.w3.org/1999/xlink\"\n     width=\"700\" height=\"300\" viewBox=\"0 -300 700 300\">\n<defs>\n</defs>\n<rect x=\"12\" y=\"-67\" width=\"9\" height=\"12\" fill=\"goldenrod\" />\n<rect x=\"12\" y=\"-55\" width=\"9\" height=\"12\" fill=\"lightcoral\" />\n<rect x=\"24\" y=\"-67\" width=\"9\" height=\"12\" fill=\"lightcoral\" />\n<rect x=\"24\" y=\"-55\" width=\"9\" height=\"12\" fill=\"goldenrod\" />\n<rect x=\"36\" y=\"-67\" width=\"9\" height=\"12\" fill=\"mediumaquamarine\" />\n<rect x=\"36\" y=\"-55\" width=\"9\" height=\"12\" fill=\"lightskyblue\" />\n<rect x=\"48\" y=\"-67\" width=\"9\" height=\"12\" fill=\"goldenrod\" />\n<rect x=\"48\" y=\"-55\" width=\"9\" height=\"12\" fill=\"lightcoral\" />\n<rect x=\"60\" y=\"-67\" width=\"9\" height=\"12\" fill=\"mediumaquamarine\" />\n<rect x=\"60\" y=\"-55\" width=\"9\" height=\"12\" fill=\"lightskyblue\" />\n<rect x=\"72\" y=\"-67\" width=\"9\" height=\"12\" fill=\"lightskyblue\" />\n<rect x=\"72\" y=\"-55\" width=\"9\" height=\"12\" fill=\"mediumaquamarine\" />\n<rect x=\"84\" y=\"-67\" width=\"9\" height=\"12\" fill=\"goldenrod\" />\n<rect x=\"84\" y=\"-55\" width=\"9\" height=\"12\" fill=\"lightcoral\" />\n<rect x=\"96\" y=\"-67\" width=\"9\" height=\"12\" fill=\"mediumaquamarine\" />\n<rect x=\"96\" y=\"-55\" width=\"9\" height=\"12\" fill=\"lightskyblue\" />\n<rect x=\"108\" y=\"-67\" width=\"9\" height=\"12\" fill=\"lightskyblue\" />\n<rect x=\"108\" y=\"-55\" width=\"9\" height=\"12\" fill=\"mediumaquamarine\" />\n<rect x=\"120\" y=\"-67\" width=\"9\" height=\"12\" fill=\"lightcoral\" />\n<rect x=\"120\" y=\"-55\" width=\"9\" height=\"12\" fill=\"goldenrod\" />\n<rect x=\"132\" y=\"-67\" width=\"9\" height=\"12\" fill=\"lightskyblue\" />\n<rect x=\"132\" y=\"-55\" width=\"9\" height=\"12\" fill=\"mediumaquamarine\" />\n<rect x=\"144\" y=\"-67\" width=\"9\" height=\"12\" fill=\"goldenrod\" />\n<rect x=\"144\" y=\"-55\" width=\"9\" height=\"12\" fill=\"lightcoral\" />\n<rect x=\"156\" y=\"-67\" width=\"9\" height=\"12\" fill=\"mediumaquamarine\" />\n<rect x=\"156\" y=\"-55\" width=\"9\" height=\"12\" fill=\"lightskyblue\" />\n<rect x=\"168\" y=\"-67\" width=\"9\" height=\"12\" fill=\"lightskyblue\" />\n<rect x=\"168\" y=\"-55\" width=\"9\" height=\"12\" fill=\"mediumaquamarine\" />\n<rect x=\"180\" y=\"-67\" width=\"9\" height=\"12\" fill=\"lightskyblue\" />\n<rect x=\"180\" y=\"-55\" width=\"9\" height=\"12\" fill=\"mediumaquamarine\" />\n<rect x=\"192\" y=\"-67\" width=\"9\" height=\"12\" fill=\"goldenrod\" />\n<rect x=\"192\" y=\"-55\" width=\"9\" height=\"12\" fill=\"lightcoral\" />\n<rect x=\"204\" y=\"-67\" width=\"9\" height=\"12\" fill=\"lightcoral\" />\n<rect x=\"204\" y=\"-55\" width=\"9\" height=\"12\" fill=\"goldenrod\" />\n<rect x=\"216\" y=\"-67\" width=\"9\" height=\"12\" fill=\"mediumaquamarine\" />\n<rect x=\"216\" y=\"-55\" width=\"9\" height=\"12\" fill=\"lightskyblue\" />\n<rect x=\"228\" y=\"-67\" width=\"9\" height=\"12\" fill=\"lightskyblue\" />\n<rect x=\"228\" y=\"-55\" width=\"9\" height=\"12\" fill=\"mediumaquamarine\" />\n<rect x=\"240\" y=\"-67\" width=\"9\" height=\"12\" fill=\"goldenrod\" />\n<rect x=\"240\" y=\"-55\" width=\"9\" height=\"12\" fill=\"lightcoral\" />\n<rect x=\"252\" y=\"-67\" width=\"9\" height=\"12\" fill=\"lightskyblue\" />\n<rect x=\"252\" y=\"-55\" width=\"9\" height=\"12\" fill=\"mediumaquamarine\" />\n<rect x=\"264\" y=\"-67\" width=\"9\" height=\"12\" fill=\"mediumaquamarine\" />\n<rect x=\"264\" y=\"-55\" width=\"9\" height=\"12\" fill=\"lightskyblue\" />\n<rect x=\"276\" y=\"-67\" width=\"9\" height=\"12\" fill=\"goldenrod\" />\n<rect x=\"276\" y=\"-55\" width=\"9\" height=\"12\" fill=\"lightcoral\" />\n<rect x=\"288\" y=\"-67\" width=\"9\" height=\"12\" fill=\"lightskyblue\" />\n<rect x=\"288\" y=\"-55\" width=\"9\" height=\"12\" fill=\"mediumaquamarine\" />\n<rect x=\"300\" y=\"-67\" width=\"9\" height=\"12\" fill=\"lightcoral\" />\n<rect x=\"300\" y=\"-55\" width=\"9\" height=\"12\" fill=\"goldenrod\" />\n<rect x=\"312\" y=\"-67\" width=\"9\" height=\"12\" fill=\"goldenrod\" />\n<rect x=\"312\" y=\"-55\" width=\"9\" height=\"12\" fill=\"lightcoral\" />\n<rect x=\"324\" y=\"-67\" width=\"9\" height=\"12\" fill=\"mediumaquamarine\" />\n<rect x=\"324\" y=\"-55\" width=\"9\" height=\"12\" fill=\"lightskyblue\" />\n<rect x=\"336\" y=\"-67\" width=\"9\" height=\"12\" fill=\"lightskyblue\" />\n<rect x=\"336\" y=\"-55\" width=\"9\" height=\"12\" fill=\"mediumaquamarine\" />\n<text x=\"12\" y=\"-55\" font-size=\"15\">A</text>\n<text x=\"12\" y=\"-43\" font-size=\"15\">T</text>\n<text x=\"24\" y=\"-55\" font-size=\"15\">T</text>\n<text x=\"24\" y=\"-43\" font-size=\"15\">A</text>\n<text x=\"36\" y=\"-55\" font-size=\"15\">C</text>\n<text x=\"36\" y=\"-43\" font-size=\"15\">G</text>\n<text x=\"48\" y=\"-55\" font-size=\"15\">A</text>\n<text x=\"48\" y=\"-43\" font-size=\"15\">T</text>\n<text x=\"60\" y=\"-55\" font-size=\"15\">C</text>\n<text x=\"60\" y=\"-43\" font-size=\"15\">G</text>\n<text x=\"72\" y=\"-55\" font-size=\"15\">G</text>\n<text x=\"72\" y=\"-43\" font-size=\"15\">C</text>\n<text x=\"84\" y=\"-55\" font-size=\"15\">A</text>\n<text x=\"84\" y=\"-43\" font-size=\"15\">T</text>\n<text x=\"96\" y=\"-55\" font-size=\"15\">C</text>\n<text x=\"96\" y=\"-43\" font-size=\"15\">G</text>\n<text x=\"108\" y=\"-55\" font-size=\"15\">G</text>\n<text x=\"108\" y=\"-43\" font-size=\"15\">C</text>\n<text x=\"120\" y=\"-55\" font-size=\"15\">T</text>\n<text x=\"120\" y=\"-43\" font-size=\"15\">A</text>\n<text x=\"132\" y=\"-55\" font-size=\"15\">G</text>\n<text x=\"132\" y=\"-43\" font-size=\"15\">C</text>\n<text x=\"144\" y=\"-55\" font-size=\"15\">A</text>\n<text x=\"144\" y=\"-43\" font-size=\"15\">T</text>\n<text x=\"156\" y=\"-55\" font-size=\"15\">C</text>\n<text x=\"156\" y=\"-43\" font-size=\"15\">G</text>\n<text x=\"168\" y=\"-55\" font-size=\"15\">G</text>\n<text x=\"168\" y=\"-43\" font-size=\"15\">C</text>\n<text x=\"180\" y=\"-55\" font-size=\"15\">G</text>\n<text x=\"180\" y=\"-43\" font-size=\"15\">C</text>\n<text x=\"192\" y=\"-55\" font-size=\"15\">A</text>\n<text x=\"192\" y=\"-43\" font-size=\"15\">T</text>\n<text x=\"204\" y=\"-55\" font-size=\"15\">T</text>\n<text x=\"204\" y=\"-43\" font-size=\"15\">A</text>\n<text x=\"216\" y=\"-55\" font-size=\"15\">C</text>\n<text x=\"216\" y=\"-43\" font-size=\"15\">G</text>\n<text x=\"228\" y=\"-55\" font-size=\"15\">G</text>\n<text x=\"228\" y=\"-43\" font-size=\"15\">C</text>\n<text x=\"240\" y=\"-55\" font-size=\"15\">A</text>\n<text x=\"240\" y=\"-43\" font-size=\"15\">T</text>\n<text x=\"252\" y=\"-55\" font-size=\"15\">G</text>\n<text x=\"252\" y=\"-43\" font-size=\"15\">C</text>\n<text x=\"264\" y=\"-55\" font-size=\"15\">C</text>\n<text x=\"264\" y=\"-43\" font-size=\"15\">G</text>\n<text x=\"276\" y=\"-55\" font-size=\"15\">A</text>\n<text x=\"276\" y=\"-43\" font-size=\"15\">T</text>\n<text x=\"288\" y=\"-55\" font-size=\"15\">G</text>\n<text x=\"288\" y=\"-43\" font-size=\"15\">C</text>\n<text x=\"300\" y=\"-55\" font-size=\"15\">T</text>\n<text x=\"300\" y=\"-43\" font-size=\"15\">A</text>\n<text x=\"312\" y=\"-55\" font-size=\"15\">A</text>\n<text x=\"312\" y=\"-43\" font-size=\"15\">T</text>\n<text x=\"324\" y=\"-55\" font-size=\"15\">C</text>\n<text x=\"324\" y=\"-43\" font-size=\"15\">G</text>\n<text x=\"336\" y=\"-55\" font-size=\"15\">G</text>\n<text x=\"336\" y=\"-43\" font-size=\"15\">C</text>\n<rect x=\"0\" y=\"-77\" width=\"336\" height=\"10\" />\n<rect x=\"336\" y=\"-77\" width=\"23\" height=\"10\" />\n<rect x=\"0\" y=\"-43\" width=\"336\" height=\"10\" />\n<rect x=\"336\" y=\"-43\" width=\"23\" height=\"10\" />\n</svg>"
     },
     "metadata": {}
    }
   ],
   "execution_count": null
  },
  {
   "cell_type": "markdown",
   "source": "<a style='text-decoration:none;line-height:16px;display:flex;color:#5B5B62;padding:10px;justify-content:end;' href='https://deepnote.com?utm_source=created-in-deepnote-cell&projectId=fbeb527c-500b-424d-bb7d-f743fbebf26e' target=\"_blank\">\n<img alt='Created in deepnote.com' style='display:inline;max-height:16px;margin:0px;margin-right:7.5px;' src='data:image/svg+xml;base64,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' > </img>\nCreated in <span style='font-weight:600;margin-left:4px;'>Deepnote</span></a>",
   "metadata": {
    "tags": [],
    "created_in_deepnote_cell": true,
    "deepnote_cell_type": "markdown"
   }
  }
 ],
 "nbformat": 4,
 "nbformat_minor": 2,
 "metadata": {
  "orig_nbformat": 2,
  "deepnote": {
   "is_reactive": false
  },
  "deepnote_notebook_id": "9f67a7b2-d6fc-4dcf-94c5-c4b18a5a3493",
  "deepnote_execution_queue": []
 }
}