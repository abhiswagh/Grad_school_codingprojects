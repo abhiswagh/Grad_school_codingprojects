{
 "cells": [
  {
   "cell_type": "markdown",
   "source": "# Project 2, Gene Finding!\n\n### Make sure to carefully read the assignment in the word doc!",
   "metadata": {
    "cell_id": "00000-91f513fa-1251-4520-9133-8d2694d72006",
    "deepnote_cell_type": "markdown",
    "deepnote_cell_height": 130
   }
  },
  {
   "cell_type": "markdown",
   "source": "## Step one: duplicate this notebook and set the sharing settings to anyone with the link can comment!",
   "metadata": {
    "cell_id": "00001-ee64a171-67db-4269-bd34-e846e447416c",
    "deepnote_cell_type": "markdown",
    "deepnote_cell_height": 110
   }
  },
  {
   "cell_type": "markdown",
   "source": "### Function bank: these functions are provided for you, so you can focus on the most interesting part of this problem: finding ORFs",
   "metadata": {
    "tags": [],
    "cell_id": "00002-e24c1ca5-e696-4f41-a353-090fd8e8c06e",
    "deepnote_cell_type": "markdown",
    "deepnote_cell_height": 94
   }
  },
  {
   "cell_type": "code",
   "metadata": {
    "tags": [],
    "cell_id": "00003-07683252-5927-4c1f-833c-724f6994f1f8",
    "deepnote_to_be_reexecuted": false,
    "source_hash": "5b5f4ff",
    "execution_start": 1650693418277,
    "execution_millis": 0,
    "deepnote_cell_type": "code",
    "deepnote_cell_height": 1989
   },
   "source": "def reverse_comp(DNA_string):\n    '''returns the reverse complement of a DNA string'''\n    new_DNA_string = ''                    # make an empty string to hold our reverse-complemented DNA\n    reversed_DNA_string = DNA_string[::-1] # reverses DNA string\n    for base in reversed_DNA_string:  # loop over bases in the reversed string\n        if base == 'A':\n            new_DNA_string += 'T'\n        elif base == 'T':\n            new_DNA_string += 'A'\n        elif base == 'G':\n            new_DNA_string += 'C'\n        elif base == 'C':\n            new_DNA_string += 'G'      \n    return new_DNA_string                  # return the new string once we're done with the loop\n\n\ndef fasta_reader(fname):\n    '''\n    given a fasta file name input with one sequence, return a string with all\n    the bases. Also prints the sequence name line\n    '''\n    f = open(fname, 'r')\n    DNA_string = ''\n    for line in f:\n        if line[0] == '>':\n            print('fasta file title line: ', line)\n        else:\n            DNA_string += line.strip()\n    f.close()\n    return DNA_string\n\n\ndef fasta_writer(gene_list, output_filename):\n    '''\n    given a list of genes and an output_filename, output those genes to a fasta file\n    '''\n    f = open(output_filename, 'w')\n    gene_counter = 1\n    for gene in gene_list:\n        f.write('>gene_'+str(gene_counter)+'\\n')\n        for i in range(len(gene)//80+1): # writes 80 characters per line\n            f.write(gene[i*80:i*80+80] + '\\n')\n        gene_counter += 1\n    f.close()\n\naa_dict = {\n    'AAA': 'K',  'AAC': 'N',  'AAG': 'K',  'AAT': 'N',  'ACA': 'T',  'ACC': 'T',  \n    'ACG': 'T',  'ACT': 'T',  'AGA': 'R',  'AGC': 'S',  'AGG': 'R',  'AGT': 'S',  \n    'ATA': 'I',  'ATC': 'I',  'ATG': 'M',  'ATT': 'I',  'CAA': 'Q',  'CAC': 'H',  \n    'CAG': 'Q',  'CAT': 'H',  'CCA': 'P',  'CCC': 'P',  'CCG': 'P',  'CCT': 'P',  \n    'CGA': 'R',  'CGC': 'R',  'CGG': 'R',  'CGT': 'R',  'CTA': 'L',  'CTC': 'L',  \n    'CTG': 'L',  'CTT': 'L',  'GAA': 'E',  'GAC': 'D',  'GAG': 'E',  'GAT': 'D',  \n    'GCA': 'A',  'GCC': 'A',  'GCG': 'A',  'GCT': 'A',  'GGA': 'G',  'GGC': 'G',  \n    'GGG': 'G',  'GGT': 'G',  'GTA': 'V',  'GTC': 'V',  'GTG': 'V',  'GTT': 'V',  \n    'TAA': '*',  'TAC': 'Y',  'TAG': '*',  'TAT': 'Y',  'TCA': 'S',  'TCC': 'S',  \n    'TCG': 'S',  'TCT': 'S',  'TGA': '*',  'TGC': 'C',  'TGG': 'W',  'TGT': 'C',  \n    'TTA': 'L',  'TTC': 'F',  'TTG': 'L',  'TTT': 'F'  \n}\n\ndef translate(dna_string):\n    '''takes a DNA string and outputs the translated amino acid sequence'''\n    output_aminoacidstring=''\n    for i in range(len(dna_string)//3):  # loop through the indices from 0 to 1/3 the string length\n        codon = dna_string[i*3:i*3+3]    # get a codon at codon position i\n        output_aminoacidstring += aa_dict[codon]\n    return output_aminoacidstring\n\n\n##################################################  our functions  ##################################################\nstart_codon = 'ATG'\nstop_codon = ['TGA', 'TAA', 'TAG']\n\ndef find_all_start (x, dna): #the function find_all_start reads each nucleotides and filters out DNA strings that has a start codon and end codon then returns it into a list of orfs\n    '''This function creates a list of all possible open reading frames (orfs) from the fasta file'''\n    DNA_string = reads_fasta('X73525.fasta')  #this opens the initial or given DNA string from the X73525 fasta file\n    i = x  #initializing the reading frame \n    j = i + 3 #reads the next 3 codon after the start codon \n    list_of_orfs = [] #this empty string will hold the final list of ORFs\n    for z in dna[i::3]: #this is a nested loop that reads every 3 nucleotides in the DNA_string\n        for codon in dna[i::3]: #this loop reads thru the DNA_string and creates a codon (set of 3 nucleotides) \n            if dna[i:i +3] == start_codon: #a condition statement in order to filter out the start codon 'ATG'\n                for triplet in dna[j::3]: #This loop will read each dna nucleotides by 3 to find a stop codon\n                    if dna[j:j+3] in stop_codon: #condition statement will filter out the stop codon, 'TAA','TAG', and 'TGA'\n                        break #The loop will break or stop once the start and stop codon is found and will move to the next position to find another potential string\n                    else:\n                        j += 3\n                break\n            else: \n                i += 3\n        if dna[i:j+3] != '':    #conditional statement to filter out the DNA_string that starts with a start codon and ends with a stop codon\n            list_of_orfs.append(dna[i:j+3]) #this will add ech DNA_string with a start codon and a stop codon to a list of orfs string\n        i = j\n        j = i + 3\n    return(list_of_orfs) #once the loop is over,the function returns a new list of orfs \n\n \ndef reads_fasta(fname): #this function reads the fasta file, removes the title, and then compile the nucleotides into a long string\n    '''This function reads the DNA on the fasta file'''\n    f = open(fname, 'r') #opens the file\n    X73= f.readlines() #call the file to run the function\n\n    DNA_string='' #empty string is created in order to place the nucleotides\n\n    for line in X73[1:]: #this loop reads over the fasta file\n        if line!='X': #conditional statement will filter out any lines that contains 'X' (mainly to cut of the title line and leave the DNA string alone)\n            DNA_string+=line.strip() #this will cut the DNA string from the entire fasta file\n    return(DNA_string) #once the loop is over, the function returns a string with only the nucleotides within the fasta file",
   "outputs": [],
   "execution_count": null
  },
  {
   "cell_type": "code",
   "metadata": {
    "cell_id": "00002-0582c668-ef06-4b14-80d6-4263624e0146",
    "deepnote_to_be_reexecuted": false,
    "source_hash": "b8e56775",
    "execution_start": 1650693418281,
    "execution_millis": 40,
    "output_cleared": false,
    "deepnote_cell_type": "code",
    "deepnote_cell_height": 1622.5625,
    "deepnote_output_heights": [
     null,
     611
    ]
   },
   "source": "\ndef fasta_gene_finder(filename,outName): \n    '''\n    overarching function can be applied to any given FASTA file to output genes larger than 450 bp's found in all reading frames in forward and reverse complement sequence\n    '''\n\n    DNA_string = reads_fasta(filename) #calls reads_fasta function that removes title line from fasta file/new line characters and assigns DNA sequence to DNA_string variable \n\n    string_of_orfs01 = find_all_start(0, DNA_string)  #this list refers to ORF's found in the 1st reading frame, starting from index position 0 in sequence (etc. for rest of reading frame lists)\n\n    string_of_orfs02 = find_all_start(1, DNA_string)\n\n    string_of_orfs03 = find_all_start(2, DNA_string) \n\n    forward_ORFs=string_of_orfs01+ string_of_orfs02+ string_of_orfs03 #this list combines all ORFs found in reading frames in DNA sequence in forward direction\n\n    reversecomp_sequence=reverse_comp(DNA_string) #call reverse_comp function that outputs reverse complement of sequence\n\n    reverse_ORFs01 = find_all_start(0,reversecomp_sequence ) #this list refers to ORF's found in the 1st reading frame, starting from index position 0 in sequence (etc. for rest of reading frame lists)\n\n    reverse_ORFs02 = find_all_start(1,reversecomp_sequence)\n\n    reverse_ORFs03 = find_all_start(2,reversecomp_sequence)\n\n    reverse_ORFs= reverse_ORFs01+reverse_ORFs02+reverse_ORFs03 #this list combines all ORFs found in reading frames in DNA sequence in reverse complement sequence\n\n    total_ORFs= forward_ORFs+reverse_ORFs  #this list combines all ORFs found in all reading frames in DNA sequence in forward and reverse complement sequence\n\n    fil_list = [] # initializes an empty list to fill with orf greater than 450 bases\n    for item in total_ORFs: # iterates through all of our orfs\n        if len(item) >= 450: # checks if the length is greater or equal to 450 bases\n            fil_list.append(item) # if the above is true then appends that string into fil_list\n    \n    translatedList = [] # initializes an empty list to fill with our amino acids\n    for item in fil_list: # iterates through our list of orfs that are greater than 450 bases\n        translatedList.append(translate(item)) # appends the translation of the string using the translate function\n            \n    fasta_writer(translatedList, outName) # uses the fasta writer function to write our translated list into a fasta file \n    print(len(total_ORFs))\n    print(len(forward_ORFs))\n    print(len(reverse_ORFs))\n\n# testing to see if the file was written with our function\nfasta_gene_finder('X73525.fasta','Fastafile') \n\nf= open('Fastafile', 'r')  \nf.readlines()",
   "outputs": [
    {
     "name": "stdout",
     "text": "117\n64\n53\n",
     "output_type": "stream"
    },
    {
     "output_type": "execute_result",
     "execution_count": 2,
     "data": {
      "text/plain": "['>gene_1\\n',\n 'MSLRVRQIDRREWLLAQTATECQRHGREATLEYPTRQGMWVRLSDAEKRWSAWIKPGDWLEHVSPALAGAAVSAGAEHLV\\n',\n 'VPWLAATERPFELPVPHLSCRRLCVENPVPGSALPEGKLLHIMSDRGGLWFEHLPELPAVGGGRPKMLRWPLRFVIGSSD\\n',\n 'TQRSLLGRIGIGDVLLIRTSRAEVYCYAKKLGHFNRVEGGIIVETLDIQHIEEENNTTETAETLPGLNQLPVKLEFVLYR\\n',\n 'KNVTLAELEAMGQQQLLSLPTNAELNVEIMANGVLLGNGELVQMNDTLGVEIHEWLSESGNGE*\\n',\n '>gene_2\\n',\n 'MSSNKTEKPTKKRLEDSAKKGQSFKSKDLIIACLTLGGIAYLVSYGSFNEFMGIIKIIIADNFDQSMADYSLAVFGIGLK\\n',\n 'YLIPFMLLCLVCSALPALLQAGFVLATEALKPNLSALNPVEGAKKLFSMRTVKDTVKTLLYLSSFVVAAIICWKKYKVEI\\n',\n 'FSQLNGNIVGIAVIWRELLLALVLTCLACALIVLLLDAIAEYFLTMKDMKMDKEEVKREMKEQEGNPEVKSKRREVHMEI\\n',\n 'LSEQVKSDIENSRLIVANPTHITIGIYFKPELMPIPMISVYETNQRALAVRAYAEKVGVPVIVDIKLARSLFKTHRRYDL\\n',\n 'VSLEEIDEVLRLLVWLEEVENAGKDVIQPQENEVRH*\\n',\n '>gene_3\\n',\n 'MGIFASAGCGKTMLMHMLIEQTEADVFVIGLIGERGREVTEFVDMLRASHKKEKCVLVFATSDFPSVDRCNAAQLATTVA\\n',\n 'EYFRDQGKRVVLFIDSMTRYARALRDVALASGERPARRGYPASVFDNLPRLLERPGATSEGSITAFYTVLLESEEEADPM\\n',\n 'ADEIRSILDGHLYLSRKLAGQGHYPAIDVLKSVSRVFGQVTTPTHAEQASAVRKLMTRLEELQLFIDLGEYRPGENIDND\\n',\n 'RAMQMRDSLKAWLCQPVAQYSSFDDTLSGMNAFADQN*\\n',\n '>gene_4\\n',\n 'MGDVSAVSSSGNILLPQQDEVGGLSEALKKAVEKHKTEYSGDKKDRDYGDAFVMHKETALPLLLAAWRHGAPAKSEHHNG\\n',\n 'NVSGLHHNGKSELRIAEKLLKVTAEKSVGLISAEAKVDKSAALLSSKNRPLESVSGKKLSADLKAVESVSEVTDNATGIS\\n',\n 'DDNIKALPGDNKAIAGEGVRKEGAPLARDVAPARMAAANTGKPEDKDHKKVKDVSQLPLQPTTIADLSQLTGGDEKMPLA\\n',\n 'AQSKPMMTIFPTADGVKGEDSSLTYRFQRWGNDYSVNIQARQAGEFSLIPSNTQVEHRLHDQWQNGNPQRWHLTRDDQQN\\n',\n 'PQQQQHRQQSGEEDDA*\\n',\n '>gene_5\\n',\n 'MGNDISLIALLAFSTLLPFIIASGTCFVKFSIVFVMVRNALGLQQIPSNMTLNGVALLLSMFVMWPIMHDAYVYFEDEDV\\n',\n 'TFNDISSLSKHVDEGLDGYRDYLIKYSDRELVQFFENAQLKRQYGEETETVKRDKDEIEKPSIFALLPAYALSEIKSAFK\\n',\n 'IGFYLYLPFVVVDLVVSSVLLALGMMMMSPVTISTPIKLVLFVALDGWTLLSKGLILQYMDIAT*\\n',\n '>gene_6\\n',\n 'MFYALYFEIHHLVASAALGFARVAPIFFFLPFLNSGVLSGAPRNAIIILVALGVWPHALNEAPPFLSVAMIPLVLQEAAV\\n',\n 'GVMLGCLLSWPFWVMHALGCIIDNQRGATLSSSIDPANGIDTSEMANFLNMFAAVVYLQNGGLVTMVDVLNKSYQLCDPM\\n',\n 'NECTPSLPPLLTFINQVAQNALVLASPVVLVLLLSEVFLGLLSRFAPQMNAFAISLTVKSGIAVLIMLLYFSPVLPDNVL\\n',\n 'RLSFQATGLSSWFYERGATHVLE*\\n',\n '>gene_7\\n',\n 'MCNNFPSGSALPGTGFSTHKRRQDKCGTGNSNGRSVAASQGTTRCSAPAETAAPARAGETCSSQSPGLIQADHRFSASLN\\n',\n 'RTHIPCRVGYSSVASRPWRWHSVAVCANSHSRRSICLTRNDIRRHPPRQIAVCAVAAADFVDRLASGASAGDYRFAIDHA\\n',\n 'NDVQPAYLTVLTKTPLLAAPEY*\\n',\n '>gene_8\\n',\n 'MCRRRDLSKNAAYAFQYIDCRVMSLPGQLSAQIQVTVKDRANFIRHRVRLFLAFQQYRIKGSNASLAGRPWAFQQAGQII\\n',\n 'EYGGGITSTSRTLSRRQCHVSQSTRITGHGIDKKHDPFSLVAKIFRYGCRQLRRIAAIDRGEIGSGKNQHAFFFLMRSAQ\\n',\n 'HIHEFSDLTASFTDKTDNKDIRLRLLDQHMHQHGLTASCGGKNAHSLAYATGQ*\\n']"
     },
     "metadata": {}
    }
   ],
   "execution_count": null
  },
  {
   "cell_type": "markdown",
   "source": "### Your goal is to find all the ORFs in the X73525.fasta file\n\nRemember:\n* Read the assignment!\n* Think through your plan and write it out before getting into the coding (we will work on this a bit together in class!)\n* ORFs can be found on the forward strand (the sequence in the file) or on the other strand (the reverse complement)\n* You will need to filter your ORFs using a length cutoff\n* Ask for help when you get stuck!",
   "metadata": {
    "tags": [],
    "cell_id": "00004-3275bf39-bce8-4de2-93fb-d861ec4a3de4",
    "owner_user_id": "84f12417-591e-4fd5-94e4-77925cba8b96",
    "deepnote_cell_type": "markdown",
    "deepnote_cell_height": 252.34375
   }
  },
  {
   "cell_type": "markdown",
   "source": "<a style='text-decoration:none;line-height:16px;display:flex;color:#5B5B62;padding:10px;justify-content:end;' href='https://deepnote.com?utm_source=created-in-deepnote-cell&projectId=a8b93df9-7e32-4f71-80f5-e84b407c4f13' target=\"_blank\">\n<img alt='Created in deepnote.com' style='display:inline;max-height:16px;margin:0px;margin-right:7.5px;' src='data:image/svg+xml;base64,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' > </img>\nCreated in <span style='font-weight:600;margin-left:4px;'>Deepnote</span></a>",
   "metadata": {
    "tags": [],
    "created_in_deepnote_cell": true,
    "deepnote_cell_type": "markdown"
   }
  }
 ],
 "nbformat": 4,
 "nbformat_minor": 5,
 "metadata": {
  "kernelspec": {
   "display_name": "Python 3",
   "language": "python",
   "name": "python3"
  },
  "language_info": {
   "codemirror_mode": {
    "name": "ipython",
    "version": 3
   },
   "file_extension": ".py",
   "mimetype": "text/x-python",
   "name": "python",
   "nbconvert_exporter": "python",
   "pygments_lexer": "ipython3",
   "version": "3.7.1"
  },
  "deepnote_notebook_id": "a61cc050-aa0c-4c42-b42b-065e18a39bad",
  "deepnote": {},
  "deepnote_execution_queue": []
 }
}